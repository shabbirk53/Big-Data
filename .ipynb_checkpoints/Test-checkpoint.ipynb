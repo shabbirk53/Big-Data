{
 "cells": [
  {
   "cell_type": "code",
   "execution_count": 1,
   "id": "2e255c4a-949d-4126-8072-6c63b661bcd2",
   "metadata": {},
   "outputs": [
    {
     "name": "stdout",
     "output_type": "stream",
     "text": [
      "root\n",
      " |-- firstName: string (nullable = true)\n",
      " |-- lastName: string (nullable = true)\n",
      " |-- dob: string (nullable = true)\n",
      " |-- gender: string (nullable = true)\n",
      " |-- department: string (nullable = true)\n",
      " |-- salary: long (nullable = true)\n",
      "\n",
      "None\n"
     ]
    }
   ],
   "source": [
    "# -*- coding: utf-8 -*-\n",
    "\"\"\"\n",
    "Spyder Editor\n",
    "\n",
    "This is a temporary script file.\n",
    "\"\"\"\n",
    "from pyspark.sql import SparkSession\n",
    "from pyspark.\n",
    "\n",
    "spark=SparkSession.builder \\\n",
    "    .master(\"local\") \\\n",
    "    .appName(\"Spark SQL\") \\\n",
    "        .getOrCreate()\n",
    "        \n",
    "data = [\n",
    "    (\"Alice\", \"Johnson\", \"1990-03-12\", \"Female\", \"HR\", 52000),\n",
    "    (\"Bob\", \"Smith\", \"1985-07-25\", \"Male\", \"Finance\", 68000),\n",
    "    (\"Clara\", \"Lee\", \"1992-11-04\", \"Female\", \"Marketing\", 60000),\n",
    "    (\"David\", \"Brown\", \"1988-02-17\", \"Male\", \"IT\", 75000),\n",
    "    (\"Emily\", \"Davis\", \"1995-05-30\", \"Female\", \"Sales\", 54000),\n",
    "    (\"Frank\", \"Wilson\", \"1979-10-22\", \"Male\", \"Operations\", 69000),\n",
    "    (\"Grace\", \"Martinez\", \"1991-08-15\", \"Female\", \"HR\", 51000),\n",
    "    (\"Henry\", \"Garcia\", \"1987-12-01\", \"Male\", \"Finance\", 72000),\n",
    "    (\"Irene\", \"Lopez\", \"1993-06-19\", \"Female\", \"IT\", 71000),\n",
    "    (\"Jake\", \"Miller\", \"1986-04-08\", \"Male\", \"Marketing\", 63000)\n",
    "]\n",
    "\n",
    "columns=[\"firstName\",\"lastName\",\"dob\",\"gender\",\"department\",\"salary\"]\n",
    "\n",
    "df=spark.createDataFrame(data=data,schema=columns)\n",
    "\n",
    "print(df.printSchema())"
   ]
  },
  {
   "cell_type": "code",
   "execution_count": null,
   "id": "deb78aee-8737-4f47-a272-71bfde4ee639",
   "metadata": {},
   "outputs": [],
   "source": []
  }
 ],
 "metadata": {
  "kernelspec": {
   "display_name": "Python 3 (ipykernel)",
   "language": "python",
   "name": "python3"
  },
  "language_info": {
   "codemirror_mode": {
    "name": "ipython",
    "version": 3
   },
   "file_extension": ".py",
   "mimetype": "text/x-python",
   "name": "python",
   "nbconvert_exporter": "python",
   "pygments_lexer": "ipython3",
   "version": "3.13.0"
  }
 },
 "nbformat": 4,
 "nbformat_minor": 5
}
