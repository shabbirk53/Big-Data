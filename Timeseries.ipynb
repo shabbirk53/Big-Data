{
 "cells": [
  {
   "cell_type": "code",
   "execution_count": 5,
   "id": "d2079aee",
   "metadata": {},
   "outputs": [
    {
     "name": "stdout",
     "output_type": "stream",
     "text": [
      "Requirement already satisfied: tslearn in d:\\python\\lib\\site-packages (0.6.3)\n",
      "Requirement already satisfied: numpy in d:\\python\\lib\\site-packages (from tslearn) (2.1.3)\n",
      "Requirement already satisfied: scipy in d:\\python\\lib\\site-packages (from tslearn) (1.14.1)\n",
      "Requirement already satisfied: scikit-learn in d:\\python\\lib\\site-packages (from tslearn) (1.5.2)\n",
      "Requirement already satisfied: numba in d:\\python\\lib\\site-packages (from tslearn) (0.61.0)\n",
      "Requirement already satisfied: joblib in d:\\python\\lib\\site-packages (from tslearn) (1.4.2)\n",
      "Requirement already satisfied: llvmlite<0.45,>=0.44.0dev0 in d:\\python\\lib\\site-packages (from numba->tslearn) (0.44.0)\n",
      "Requirement already satisfied: threadpoolctl>=3.1.0 in d:\\python\\lib\\site-packages (from scikit-learn->tslearn) (3.5.0)\n"
     ]
    }
   ],
   "source": [
    "!pip install tslearn\n",
    "\n",
    "%matplotlib inline\n",
    "from tslearn.datasets import CachedDatasets\n",
    "from tslearn.clustering import silhouette_score\n",
    "from tslearn.clustering import TimeSeriesKMeans\n",
    "from sklearn.decomposition import PCA\n",
    "import numpy as np\n",
    "import matplotlib.pyplot as plt\n",
    "import pandas as pd\n",
    "import seaborn as sns\n",
    "plt.rcParams['figure.figsize'] = 25, 8\n",
    "from tslearn.preprocessing import TimeSeriesScalerMeanVariance\n",
    "\n",
    "\n"
   ]
  },
  {
   "cell_type": "code",
   "execution_count": 6,
   "id": "e0747d66",
   "metadata": {},
   "outputs": [],
   "source": [
    "X_train,y_train,X_test,y_test = CachedDatasets().load_dataset(\"Trace\")\n"
   ]
  },
  {
   "cell_type": "code",
   "execution_count": 7,
   "id": "70b447e9",
   "metadata": {},
   "outputs": [],
   "source": [
    "X_train=X_train[y_train<4]\n",
    "y_train=y_train[y_train<4]\n",
    "X_test=X_test[y_test<4]\n",
    "y_test=y_test[y_test<4]\n"
   ]
  },
  {
   "cell_type": "code",
   "execution_count": 8,
   "id": "aa117b28",
   "metadata": {},
   "outputs": [
    {
     "data": {
      "text/plain": [
       "(69, 275, 1)"
      ]
     },
     "execution_count": 8,
     "metadata": {},
     "output_type": "execute_result"
    }
   ],
   "source": [
    "X_train.shape"
   ]
  },
  {
   "cell_type": "markdown",
   "id": "2e090f09",
   "metadata": {},
   "source": [
    "# Preprocessing"
   ]
  },
  {
   "cell_type": "markdown",
   "id": "633af274",
   "metadata": {},
   "source": []
  }
 ],
 "metadata": {
  "kernelspec": {
   "display_name": "Python 3",
   "language": "python",
   "name": "python3"
  },
  "language_info": {
   "codemirror_mode": {
    "name": "ipython",
    "version": 3
   },
   "file_extension": ".py",
   "mimetype": "text/x-python",
   "name": "python",
   "nbconvert_exporter": "python",
   "pygments_lexer": "ipython3",
   "version": "3.13.0"
  }
 },
 "nbformat": 4,
 "nbformat_minor": 5
}
