{
 "cells": [
  {
   "cell_type": "code",
   "execution_count": 1,
   "id": "adef3417",
   "metadata": {},
   "outputs": [],
   "source": [
    "from pyspark.sql import SparkSession\n",
    "from pyspark.sql.types import StructType, StructField, StringType, IntegerType, DateType, FloatType\n",
    "from pyspark.sql import functions as F"
   ]
  },
  {
   "cell_type": "code",
   "execution_count": 2,
   "id": "764a81e8",
   "metadata": {},
   "outputs": [],
   "source": [
    "spark = SparkSession.builder.appName(\"SparkApp\").getOrCreate()"
   ]
  },
  {
   "cell_type": "code",
   "execution_count": 5,
   "id": "bd3f230c",
   "metadata": {},
   "outputs": [],
   "source": [
    "myschema = StructType([StructField(\"id\", IntegerType(), True),\n",
    "                        StructField(\"name\", StringType(), True),\n",
    "                        StructField(\"age\", IntegerType(), True),\n",
    "                        StructField(\"friends\", IntegerType(), True)\n",
    "])"
   ]
  },
  {
   "cell_type": "code",
   "execution_count": 7,
   "id": "55fa9d07",
   "metadata": {},
   "outputs": [],
   "source": [
    "people= spark.read.format(\"csv\")\\\n",
    "    .option(\"path\", \"fakefriends.csv\")\\\n",
    "    .schema(myschema)\\\n",
    "    .load()"
   ]
  },
  {
   "cell_type": "code",
   "execution_count": 10,
   "id": "1af36f38",
   "metadata": {},
   "outputs": [],
   "source": [
    "output= people.select(people.id,people.name,people.age,people.friends)\\\n",
    "    .where(people.age<30).withColumn('insert_ts',F.current_timestamp())\\\n",
    "    .orderBy(people.id)"
   ]
  },
  {
   "cell_type": "code",
   "execution_count": 11,
   "id": "af7048af",
   "metadata": {},
   "outputs": [
    {
     "name": "stdout",
     "output_type": "stream",
     "text": [
      "+---+--------+---+-------+--------------------------+\n",
      "|id |name    |age|friends|insert_ts                 |\n",
      "+---+--------+---+-------+--------------------------+\n",
      "|1  |Jean-Luc|26 |2      |2025-04-12 10:24:35.082862|\n",
      "|9  |Hugh    |27 |181    |2025-04-12 10:24:35.082862|\n",
      "|16 |Weyoun  |22 |323    |2025-04-12 10:24:35.082862|\n",
      "|21 |Miles   |19 |268    |2025-04-12 10:24:35.082862|\n",
      "|24 |Julian  |25 |1      |2025-04-12 10:24:35.082862|\n",
      "|25 |Ben     |21 |445    |2025-04-12 10:24:35.082862|\n",
      "|26 |Julian  |22 |100    |2025-04-12 10:24:35.082862|\n",
      "|32 |Nog     |26 |281    |2025-04-12 10:24:35.082862|\n",
      "|35 |Beverly |27 |305    |2025-04-12 10:24:35.082862|\n",
      "|46 |Morn    |25 |96     |2025-04-12 10:24:35.082862|\n",
      "|47 |Brunt   |24 |49     |2025-04-12 10:24:35.082862|\n",
      "|48 |Nog     |20 |1      |2025-04-12 10:24:35.082862|\n",
      "|52 |Beverly |19 |269    |2025-04-12 10:24:35.082862|\n",
      "|54 |Brunt   |19 |5      |2025-04-12 10:24:35.082862|\n",
      "|60 |Geordi  |20 |100    |2025-04-12 10:24:35.082862|\n",
      "|66 |Geordi  |21 |477    |2025-04-12 10:24:35.082862|\n",
      "|72 |Kasidy  |22 |179    |2025-04-12 10:24:35.082862|\n",
      "|73 |Brunt   |20 |384    |2025-04-12 10:24:35.082862|\n",
      "|84 |Ben     |28 |311    |2025-04-12 10:24:35.082862|\n",
      "|89 |Worf    |24 |492    |2025-04-12 10:24:35.082862|\n",
      "+---+--------+---+-------+--------------------------+\n",
      "only showing top 20 rows\n",
      "\n"
     ]
    }
   ],
   "source": [
    "output.show(truncate=False)"
   ]
  },
  {
   "cell_type": "code",
   "execution_count": 12,
   "id": "c216a2f7",
   "metadata": {},
   "outputs": [
    {
     "data": {
      "text/plain": [
       "112"
      ]
     },
     "execution_count": 12,
     "metadata": {},
     "output_type": "execute_result"
    }
   ],
   "source": [
    "output.count()"
   ]
  },
  {
   "cell_type": "code",
   "execution_count": 13,
   "id": "74fa9472",
   "metadata": {},
   "outputs": [],
   "source": [
    "output.createOrReplaceTempView(\"people_view\")"
   ]
  },
  {
   "cell_type": "code",
   "execution_count": 14,
   "id": "99d474e0",
   "metadata": {},
   "outputs": [
    {
     "name": "stdout",
     "output_type": "stream",
     "text": [
      "+---+--------+---+-------+--------------------------+\n",
      "|id |name    |age|friends|insert_ts                 |\n",
      "+---+--------+---+-------+--------------------------+\n",
      "|1  |Jean-Luc|26 |2      |2025-04-12 10:27:02.146168|\n",
      "|9  |Hugh    |27 |181    |2025-04-12 10:27:02.146168|\n",
      "|16 |Weyoun  |22 |323    |2025-04-12 10:27:02.146168|\n",
      "|21 |Miles   |19 |268    |2025-04-12 10:27:02.146168|\n",
      "|24 |Julian  |25 |1      |2025-04-12 10:27:02.146168|\n",
      "|25 |Ben     |21 |445    |2025-04-12 10:27:02.146168|\n",
      "|26 |Julian  |22 |100    |2025-04-12 10:27:02.146168|\n",
      "|32 |Nog     |26 |281    |2025-04-12 10:27:02.146168|\n",
      "|35 |Beverly |27 |305    |2025-04-12 10:27:02.146168|\n",
      "|46 |Morn    |25 |96     |2025-04-12 10:27:02.146168|\n",
      "|47 |Brunt   |24 |49     |2025-04-12 10:27:02.146168|\n",
      "|48 |Nog     |20 |1      |2025-04-12 10:27:02.146168|\n",
      "|52 |Beverly |19 |269    |2025-04-12 10:27:02.146168|\n",
      "|54 |Brunt   |19 |5      |2025-04-12 10:27:02.146168|\n",
      "|60 |Geordi  |20 |100    |2025-04-12 10:27:02.146168|\n",
      "|66 |Geordi  |21 |477    |2025-04-12 10:27:02.146168|\n",
      "|72 |Kasidy  |22 |179    |2025-04-12 10:27:02.146168|\n",
      "|73 |Brunt   |20 |384    |2025-04-12 10:27:02.146168|\n",
      "|84 |Ben     |28 |311    |2025-04-12 10:27:02.146168|\n",
      "|89 |Worf    |24 |492    |2025-04-12 10:27:02.146168|\n",
      "+---+--------+---+-------+--------------------------+\n",
      "only showing top 20 rows\n",
      "\n"
     ]
    }
   ],
   "source": [
    "spark.sql(\"SELECT * FROM people_view\").show(truncate=False)"
   ]
  },
  {
   "cell_type": "code",
   "execution_count": null,
   "id": "4dc50e7a",
   "metadata": {},
   "outputs": [],
   "source": []
  }
 ],
 "metadata": {
  "kernelspec": {
   "display_name": "Python 3",
   "language": "python",
   "name": "python3"
  },
  "language_info": {
   "codemirror_mode": {
    "name": "ipython",
    "version": 3
   },
   "file_extension": ".py",
   "mimetype": "text/x-python",
   "name": "python",
   "nbconvert_exporter": "python",
   "pygments_lexer": "ipython3",
   "version": "3.13.0"
  }
 },
 "nbformat": 4,
 "nbformat_minor": 5
}
